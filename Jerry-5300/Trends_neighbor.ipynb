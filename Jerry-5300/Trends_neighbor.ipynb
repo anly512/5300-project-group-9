{
 "cells": [
  {
   "cell_type": "markdown",
   "source": [
    "# Trends based on neighborhood"
   ],
   "metadata": {
    "collapsed": false,
    "pycharm": {
     "name": "#%% md\n"
    }
   }
  },
  {
   "cell_type": "code",
   "execution_count": 1,
   "outputs": [],
   "source": [
    "import pandas as pd"
   ],
   "metadata": {
    "collapsed": false,
    "pycharm": {
     "name": "#%%\n"
    }
   }
  },
  {
   "cell_type": "code",
   "execution_count": 5,
   "outputs": [],
   "source": [
    "data = pd.read_excel('Trend based on neighbors.xlsx')"
   ],
   "metadata": {
    "collapsed": false,
    "pycharm": {
     "name": "#%%\n"
    }
   }
  },
  {
   "cell_type": "code",
   "execution_count": 6,
   "outputs": [],
   "source": [
    "# Get unique combinations of neighborhood and year\n",
    "neighborhoods = data[['neighborhood']].drop_duplicates()"
   ],
   "metadata": {
    "collapsed": false,
    "pycharm": {
     "name": "#%%\n"
    }
   }
  },
  {
   "cell_type": "code",
   "execution_count": 8,
   "outputs": [
    {
     "name": "stdout",
     "output_type": "stream",
     "text": [
      "Data for Bayview saved to Bayview/Bayview.xlsx\n",
      "Data for Bernal Heights saved to Bernal Heights/Bernal Heights.xlsx\n",
      "Data for Chinatown saved to Chinatown/Chinatown.xlsx\n",
      "Data for Excelsior saved to Excelsior/Excelsior.xlsx\n",
      "Data for Haight Ashbury saved to Haight Ashbury/Haight Ashbury.xlsx\n",
      "Data for Inner Richmond saved to Inner Richmond/Inner Richmond.xlsx\n",
      "Data for Inner Sunset saved to Inner Sunset/Inner Sunset.xlsx\n",
      "Data for Marina saved to Marina/Marina.xlsx\n",
      "Data for Mission saved to Mission/Mission.xlsx\n",
      "Data for Noe Valley saved to Noe Valley/Noe Valley.xlsx\n",
      "Data for Outer Mission saved to Outer Mission/Outer Mission.xlsx\n",
      "Data for Outer Richmond saved to Outer Richmond/Outer Richmond.xlsx\n",
      "Data for Pacific Heights saved to Pacific Heights/Pacific Heights.xlsx\n",
      "Data for Portola saved to Portola/Portola.xlsx\n",
      "Data for Potrero Hill saved to Potrero Hill/Potrero Hill.xlsx\n",
      "Data for Presidio Heights saved to Presidio Heights/Presidio Heights.xlsx\n",
      "Data for Seacliff saved to Seacliff/Seacliff.xlsx\n",
      "Data for South of Market saved to South of Market/South of Market.xlsx\n",
      "Data for Visitacion Valley saved to Visitacion Valley/Visitacion Valley.xlsx\n",
      "Data for Western Addition saved to Western Addition/Western Addition.xlsx\n"
     ]
    }
   ],
   "source": [
    "# Loop through each combination and save the filtered data to a new Excel file\n",
    "for index, row in neighborhoods.iterrows():\n",
    "    neighborhood = row['neighborhood']\n",
    "\n",
    "    # Filter the data for the current neighborhood and year\n",
    "    filtered_data = data[(data['neighborhood'] == neighborhood)]\n",
    "\n",
    "    filtered_data = filtered_data.drop(columns=['Unnamed: 0'])\n",
    "\n",
    "    # Define the filename for the new Excel file\n",
    "    filename = f\"{neighborhood}/{neighborhood}.xlsx\"\n",
    "\n",
    "    # Save the filtered data to a new Excel file\n",
    "    filtered_data.to_excel(filename, index=False)\n",
    "\n",
    "    print(f\"Data for {neighborhood} saved to {filename}\")"
   ],
   "metadata": {
    "collapsed": false,
    "pycharm": {
     "name": "#%%\n"
    }
   }
  },
  {
   "cell_type": "code",
   "execution_count": null,
   "outputs": [],
   "source": [],
   "metadata": {
    "collapsed": false,
    "pycharm": {
     "name": "#%%\n"
    }
   }
  }
 ],
 "metadata": {
  "kernelspec": {
   "display_name": "Python 3",
   "language": "python",
   "name": "python3"
  },
  "language_info": {
   "codemirror_mode": {
    "name": "ipython",
    "version": 2
   },
   "file_extension": ".py",
   "mimetype": "text/x-python",
   "name": "python",
   "nbconvert_exporter": "python",
   "pygments_lexer": "ipython2",
   "version": "2.7.6"
  }
 },
 "nbformat": 4,
 "nbformat_minor": 0
}